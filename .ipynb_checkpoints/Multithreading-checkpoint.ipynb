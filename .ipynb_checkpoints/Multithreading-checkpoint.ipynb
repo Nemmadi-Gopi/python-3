{
 "cells": [
  {
   "cell_type": "markdown",
   "id": "a06edda3",
   "metadata": {},
   "source": [
    "# AGENDA:\n",
    "What is Multitasking in python?\n",
    "Types of Multitasking\n",
    "What is a thread?\n",
    "How to achieve Multithreading in python?\n",
    "How to create Threads in python?\n",
    " . Without creating a class\n",
    " . By extending Thread class\n",
    " .Without extending Thread class\n",
    "Advantages of Multithreading\n"
   ]
  },
  {
   "cell_type": "code",
   "execution_count": 2,
   "id": "27c47ac7",
   "metadata": {},
   "outputs": [],
   "source": [
    "from threading import *"
   ]
  },
  {
   "cell_type": "code",
   "execution_count": 11,
   "id": "c447576a",
   "metadata": {},
   "outputs": [
    {
     "name": "stdout",
     "output_type": "stream",
     "text": [
      "MainThread\n",
      "chaild execution... Thread-14\n",
      "chaild execution... Thread-14\n",
      "chaild execution... Thread-14\n",
      "chaild execution... Thread-14\n",
      "chaild execution... Thread-14\n",
      "chaild execution... Thread-14\n",
      "bye MainThread\n"
     ]
    }
   ],
   "source": [
    "def new():\n",
    "    for x in range(6):\n",
    "        print(\"chaild execution...\", current_thread().getName())\n",
    "t1 = Thread(target = new)\n",
    "print( current_thread().getName())\n",
    "t1.start()\n",
    "t1.join()\n",
    "print(\"bye\", current_thread().getName())"
   ]
  },
  {
   "cell_type": "code",
   "execution_count": 36,
   "id": "5fe500e7",
   "metadata": {},
   "outputs": [],
   "source": [
    "import threading"
   ]
  },
  {
   "cell_type": "code",
   "execution_count": 37,
   "id": "5bb88deb",
   "metadata": {},
   "outputs": [
    {
     "name": "stdout",
     "output_type": "stream",
     "text": [
      "chaild =  Thread-35\n",
      "chaild =  Thread-35\n",
      "chaild =  Thread-35\n",
      "chaild =  Thread-35\n",
      "chaild =  Thread-35\n",
      "chaild =  Thread-35\n",
      "chaild =  Thread-35\n",
      "control return to  MainThread\n"
     ]
    }
   ],
   "source": [
    "class A(threading.Thread):\n",
    "    def run(self):\n",
    "        for i in range(7):\n",
    "            print(\"chaild = \", current_thread().getName())\n",
    "obj = A()\n",
    "obj.start()\n",
    "obj.join()\n",
    "print(\"control return to \", current_thread().getName())"
   ]
  },
  {
   "cell_type": "code",
   "execution_count": 38,
   "id": "771c8a0a",
   "metadata": {},
   "outputs": [
    {
     "name": "stdout",
     "output_type": "stream",
     "text": [
      "chaild printing  2\n",
      "chaild printing  1\n",
      "chaild printing  w\n",
      "chaild printing  8.7\n",
      "chaild printing  abcd\n",
      "done\n"
     ]
    }
   ],
   "source": [
    "class ex:\n",
    "    def B(self):\n",
    "        lst = [2,1,'w', 8.7, \"abcd\"]\n",
    "        for i in lst:\n",
    "            print(\"chaild printing \", i)\n",
    "myobj = ex()\n",
    "t1 = Thread(target = myobj.B)\n",
    "t1.start()\n",
    "t1.join()\n",
    "print(\"done\")"
   ]
  },
  {
   "cell_type": "code",
   "execution_count": 48,
   "id": "68327be8",
   "metadata": {},
   "outputs": [
    {
     "name": "stdout",
     "output_type": "stream",
     "text": [
      "0\n",
      "0\n",
      "1\n",
      "1\n",
      "0\n",
      "1\n",
      "0\n",
      "1\n",
      "2\n",
      "1\n",
      "0\n",
      "2\n",
      "0\n",
      "1\n",
      "2\n",
      "0\n",
      "0.0009965896606445312\n"
     ]
    }
   ],
   "source": [
    "import time\n",
    "def d2(n):\n",
    "    for i in n:\n",
    "        print(i%2)\n",
    "def d3(n):\n",
    "    for i in n:\n",
    "        print(i%3)\n",
    "n = [2,4,3,5,6,7,8,9]\n",
    "s = time.time()\n",
    "d2(n)\n",
    "d3(n)\n",
    "e = time.time()\n",
    "print(e-s)"
   ]
  },
  {
   "cell_type": "code",
   "execution_count": 49,
   "id": "75e18971",
   "metadata": {},
   "outputs": [
    {
     "name": "stdout",
     "output_type": "stream",
     "text": [
      "0\n",
      "0\n",
      "1\n",
      "1\n",
      "0\n",
      "1\n",
      "0\n",
      "1\n",
      "2\n",
      "1\n",
      "0\n",
      "2\n",
      "0\n",
      "1\n",
      "2\n",
      "0\n",
      "0.006942033767700195\n"
     ]
    }
   ],
   "source": [
    "import time\n",
    "def d2(n):\n",
    "    for i in n:\n",
    "        time.sleep(1)\n",
    "        print(i%2)\n",
    "def d3(n):\n",
    "    for i in n:\n",
    "        time.sleep(1)\n",
    "        print(i%3)\n",
    "n = [2,4,3,5,6,7,8,9]\n",
    "s = time.time()\n",
    "t1 = Thread(target = d2, args = (n,))\n",
    "t2 = Thread(target = d3, args = (n,))\n",
    "t1.start()\n",
    "t2.start()\n",
    "t1.join()\n",
    "t2.join()\n",
    "e = time.time()\n",
    "print(e-s)"
   ]
  }
 ],
 "metadata": {
  "kernelspec": {
   "display_name": "Python 3",
   "language": "python",
   "name": "python3"
  },
  "language_info": {
   "codemirror_mode": {
    "name": "ipython",
    "version": 3
   },
   "file_extension": ".py",
   "mimetype": "text/x-python",
   "name": "python",
   "nbconvert_exporter": "python",
   "pygments_lexer": "ipython3",
   "version": "3.6.5"
  }
 },
 "nbformat": 4,
 "nbformat_minor": 5
}
