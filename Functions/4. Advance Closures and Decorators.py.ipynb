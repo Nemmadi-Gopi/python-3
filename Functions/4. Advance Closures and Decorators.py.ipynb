{
 "cells": [
  {
   "cell_type": "markdown",
   "id": "eba0c796",
   "metadata": {},
   "source": [
    "## closures and decorators"
   ]
  },
  {
   "cell_type": "code",
   "execution_count": 11,
   "id": "113ea5c4",
   "metadata": {},
   "outputs": [],
   "source": [
    "#function copy()\n",
    "#closure\n",
    "#decorators"
   ]
  },
  {
   "cell_type": "markdown",
   "id": "b0e8660e",
   "metadata": {},
   "source": [
    "## Function copy()"
   ]
  },
  {
   "cell_type": "code",
   "execution_count": 20,
   "id": "3e2895cc",
   "metadata": {},
   "outputs": [],
   "source": [
    "#funcation copy()\n",
    "def welcome():\n",
    "    return \"Welcome to python\""
   ]
  },
  {
   "cell_type": "code",
   "execution_count": 14,
   "id": "d3e24a8e",
   "metadata": {},
   "outputs": [],
   "source": [
    "wel = welcome()\n",
    "del welcome"
   ]
  },
  {
   "cell_type": "code",
   "execution_count": 15,
   "id": "eb1ff0d5",
   "metadata": {},
   "outputs": [
    {
     "data": {
      "text/plain": [
       "'Welcome to python'"
      ]
     },
     "execution_count": 15,
     "metadata": {},
     "output_type": "execute_result"
    }
   ],
   "source": [
    "wel"
   ]
  },
  {
   "cell_type": "markdown",
   "id": "522f4e75",
   "metadata": {},
   "source": [
    "## Closure()"
   ]
  },
  {
   "cell_type": "markdown",
   "id": "9ec88aa0",
   "metadata": {},
   "source": [
    "1.closures means defining a function inside an another function is called closure."
   ]
  },
  {
   "cell_type": "code",
   "execution_count": 3,
   "id": "da31e5cc",
   "metadata": {},
   "outputs": [],
   "source": [
    "# intital closures\n",
    "def Main_welcome():\n",
    "    msg = \"Hello Everyone\"\n",
    "    def Sub_welcome_class():\n",
    "        print(\"welcome to python\")\n",
    "        print(msg)\n",
    "        print(\"Welcome to advance python world.!\")\n",
    "    return Sub_welcome_class()"
   ]
  },
  {
   "cell_type": "code",
   "execution_count": 4,
   "id": "7547a30c",
   "metadata": {},
   "outputs": [
    {
     "name": "stdout",
     "output_type": "stream",
     "text": [
      "welcome to python\n",
      "Hello Everyone\n",
      "Welcome to advance python world.!\n"
     ]
    }
   ],
   "source": [
    "Main_welcome()"
   ]
  },
  {
   "cell_type": "code",
   "execution_count": 7,
   "id": "1148a19f",
   "metadata": {},
   "outputs": [],
   "source": [
    "# closures\n",
    "def Main_welcome(msg):\n",
    "    def Sub_welcome_class():\n",
    "        print(\"welcome to python\")\n",
    "        print(msg)\n",
    "        print(\"Welcome to advance python world.!\")\n",
    "    return Sub_welcome_class()"
   ]
  },
  {
   "cell_type": "code",
   "execution_count": 8,
   "id": "15ec674f",
   "metadata": {},
   "outputs": [
    {
     "name": "stdout",
     "output_type": "stream",
     "text": [
      "welcome to python\n",
      "Hello Everyone..!\n",
      "Welcome to advance python world.!\n"
     ]
    }
   ],
   "source": [
    "Main_welcome(\"Hello Everyone..!\")"
   ]
  },
  {
   "cell_type": "code",
   "execution_count": 14,
   "id": "fd049d21",
   "metadata": {},
   "outputs": [],
   "source": [
    "# closures & Intial Decorators\n",
    "def Main_welcome(func):\n",
    "    def Sub_welcome_class():\n",
    "        print(\"welcome to python\")\n",
    "        func(\"Welcome to my python web-development\")\n",
    "        print(\"Welcome to advance python world.!\")\n",
    "    return Sub_welcome_class()"
   ]
  },
  {
   "cell_type": "code",
   "execution_count": 15,
   "id": "1ed0b02e",
   "metadata": {},
   "outputs": [
    {
     "name": "stdout",
     "output_type": "stream",
     "text": [
      "welcome to python\n",
      "Welcome to my python web-development\n",
      "Welcome to advance python world.!\n"
     ]
    }
   ],
   "source": [
    "Main_welcome(print)"
   ]
  },
  {
   "cell_type": "code",
   "execution_count": 46,
   "id": "8e175db9",
   "metadata": {},
   "outputs": [],
   "source": [
    "# Decorators\n",
    "def Main_welcome(func):\n",
    "    def Sub_welcome_class():\n",
    "        print(\"welcome to python\")\n",
    "        func()\n",
    "        print(\"Welcome to advance python world.!\")\n",
    "    return Sub_welcome_class()"
   ]
  },
  {
   "cell_type": "code",
   "execution_count": 47,
   "id": "ede63bd0",
   "metadata": {},
   "outputs": [
    {
     "name": "stdout",
     "output_type": "stream",
     "text": [
      "welcome to python\n",
      "This is python series\n",
      "Welcome to advance python world.!\n"
     ]
    }
   ],
   "source": [
    "@Main_welcome\n",
    "def channel_name():\n",
    "    print('This is python series')"
   ]
  },
  {
   "cell_type": "code",
   "execution_count": 48,
   "id": "1559332a",
   "metadata": {},
   "outputs": [
    {
     "name": "stdout",
     "output_type": "stream",
     "text": [
      "welcome to python\n"
     ]
    },
    {
     "ename": "TypeError",
     "evalue": "'NoneType' object is not callable",
     "output_type": "error",
     "traceback": [
      "\u001b[1;31m---------------------------------------------------------------------------\u001b[0m",
      "\u001b[1;31mTypeError\u001b[0m                                 Traceback (most recent call last)",
      "\u001b[1;32m<ipython-input-48-7dffc23adb10>\u001b[0m in \u001b[0;36m<module>\u001b[1;34m\u001b[0m\n\u001b[1;32m----> 1\u001b[1;33m \u001b[0mMain_welcome\u001b[0m\u001b[1;33m(\u001b[0m\u001b[0mchannel_name\u001b[0m\u001b[1;33m)\u001b[0m\u001b[1;33m\u001b[0m\u001b[0m\n\u001b[0m",
      "\u001b[1;32m<ipython-input-46-d4cc01926353>\u001b[0m in \u001b[0;36mMain_welcome\u001b[1;34m(func)\u001b[0m\n\u001b[0;32m      5\u001b[0m         \u001b[0mfunc\u001b[0m\u001b[1;33m(\u001b[0m\u001b[1;33m)\u001b[0m\u001b[1;33m\u001b[0m\u001b[0m\n\u001b[0;32m      6\u001b[0m         \u001b[0mprint\u001b[0m\u001b[1;33m(\u001b[0m\u001b[1;34m\"Welcome to advance python world.!\"\u001b[0m\u001b[1;33m)\u001b[0m\u001b[1;33m\u001b[0m\u001b[0m\n\u001b[1;32m----> 7\u001b[1;33m     \u001b[1;32mreturn\u001b[0m \u001b[0mSub_welcome_class\u001b[0m\u001b[1;33m(\u001b[0m\u001b[1;33m)\u001b[0m\u001b[1;33m\u001b[0m\u001b[0m\n\u001b[0m",
      "\u001b[1;32m<ipython-input-46-d4cc01926353>\u001b[0m in \u001b[0;36mSub_welcome_class\u001b[1;34m()\u001b[0m\n\u001b[0;32m      3\u001b[0m     \u001b[1;32mdef\u001b[0m \u001b[0mSub_welcome_class\u001b[0m\u001b[1;33m(\u001b[0m\u001b[1;33m)\u001b[0m\u001b[1;33m:\u001b[0m\u001b[1;33m\u001b[0m\u001b[0m\n\u001b[0;32m      4\u001b[0m         \u001b[0mprint\u001b[0m\u001b[1;33m(\u001b[0m\u001b[1;34m\"welcome to python\"\u001b[0m\u001b[1;33m)\u001b[0m\u001b[1;33m\u001b[0m\u001b[0m\n\u001b[1;32m----> 5\u001b[1;33m         \u001b[0mfunc\u001b[0m\u001b[1;33m(\u001b[0m\u001b[1;33m)\u001b[0m\u001b[1;33m\u001b[0m\u001b[0m\n\u001b[0m\u001b[0;32m      6\u001b[0m         \u001b[0mprint\u001b[0m\u001b[1;33m(\u001b[0m\u001b[1;34m\"Welcome to advance python world.!\"\u001b[0m\u001b[1;33m)\u001b[0m\u001b[1;33m\u001b[0m\u001b[0m\n\u001b[0;32m      7\u001b[0m     \u001b[1;32mreturn\u001b[0m \u001b[0mSub_welcome_class\u001b[0m\u001b[1;33m(\u001b[0m\u001b[1;33m)\u001b[0m\u001b[1;33m\u001b[0m\u001b[0m\n",
      "\u001b[1;31mTypeError\u001b[0m: 'NoneType' object is not callable"
     ]
    }
   ],
   "source": [
    "Main_welcome(channel_name)"
   ]
  },
  {
   "cell_type": "code",
   "execution_count": null,
   "id": "164fcc35",
   "metadata": {},
   "outputs": [],
   "source": []
  }
 ],
 "metadata": {
  "kernelspec": {
   "display_name": "Python 3",
   "language": "python",
   "name": "python3"
  },
  "language_info": {
   "codemirror_mode": {
    "name": "ipython",
    "version": 3
   },
   "file_extension": ".py",
   "mimetype": "text/x-python",
   "name": "python",
   "nbconvert_exporter": "python",
   "pygments_lexer": "ipython3",
   "version": "3.6.5"
  }
 },
 "nbformat": 4,
 "nbformat_minor": 5
}
