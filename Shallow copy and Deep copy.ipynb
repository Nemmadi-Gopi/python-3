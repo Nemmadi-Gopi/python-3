{
 "cells": [
  {
   "cell_type": "code",
   "execution_count": 1,
   "id": "4167be0a",
   "metadata": {},
   "outputs": [
    {
     "name": "stdout",
     "output_type": "stream",
     "text": [
      "jai srirama\n"
     ]
    }
   ],
   "source": [
    "print(\"jai srirama\")"
   ]
  },
  {
   "cell_type": "markdown",
   "id": "6faa98ad",
   "metadata": {},
   "source": [
    "# Shallow copy and Deep copy():"
   ]
  },
  {
   "cell_type": "code",
   "execution_count": 4,
   "id": "1971e1eb",
   "metadata": {},
   "outputs": [],
   "source": [
    "lst1 = [1,2,3,4,5,6]\n",
    "lst2 = lst1"
   ]
  },
  {
   "cell_type": "code",
   "execution_count": 8,
   "id": "4e727e27",
   "metadata": {},
   "outputs": [
    {
     "name": "stdout",
     "output_type": "stream",
     "text": [
      "1312479845192\n",
      "1312479845192\n"
     ]
    }
   ],
   "source": [
    "print(id(lst1))\n",
    "print(id(lst2))"
   ]
  },
  {
   "cell_type": "code",
   "execution_count": 11,
   "id": "9cec4b8e",
   "metadata": {},
   "outputs": [],
   "source": [
    "lst2[1] =1000"
   ]
  },
  {
   "cell_type": "code",
   "execution_count": 13,
   "id": "fad27b52",
   "metadata": {},
   "outputs": [
    {
     "data": {
      "text/plain": [
       "([1, 1000, 3, 4, 5, 6], [1, 1000, 3, 4, 5, 6])"
      ]
     },
     "execution_count": 13,
     "metadata": {},
     "output_type": "execute_result"
    }
   ],
   "source": [
    "lst2, lst1"
   ]
  },
  {
   "cell_type": "markdown",
   "id": "5b3b2f11",
   "metadata": {},
   "source": [
    "### shallow copy"
   ]
  },
  {
   "cell_type": "code",
   "execution_count": 25,
   "id": "7d2360ae",
   "metadata": {},
   "outputs": [],
   "source": [
    "lst1 = [1,2,3,4,5,6]\n",
    "lst2 = lst1.copy()"
   ]
  },
  {
   "cell_type": "code",
   "execution_count": 26,
   "id": "1390dc00",
   "metadata": {},
   "outputs": [],
   "source": [
    "lst1[2] = 1000"
   ]
  },
  {
   "cell_type": "code",
   "execution_count": 27,
   "id": "377a45b4",
   "metadata": {},
   "outputs": [
    {
     "data": {
      "text/plain": [
       "([1, 2, 3, 4, 5, 6], [1, 2, 1000, 4, 5, 6])"
      ]
     },
     "execution_count": 27,
     "metadata": {},
     "output_type": "execute_result"
    }
   ],
   "source": [
    "lst2, lst1"
   ]
  },
  {
   "cell_type": "code",
   "execution_count": 29,
   "id": "c58ee824",
   "metadata": {},
   "outputs": [],
   "source": [
    "lst1 = [[1,2,3,4,5,6],[7,8,9,10,11,12]]\n",
    "lst2 = lst1.copy()"
   ]
  },
  {
   "cell_type": "code",
   "execution_count": 31,
   "id": "d3da0f46",
   "metadata": {},
   "outputs": [],
   "source": [
    "lst2[1][1] =100"
   ]
  },
  {
   "cell_type": "code",
   "execution_count": 33,
   "id": "998a8f0d",
   "metadata": {},
   "outputs": [
    {
     "data": {
      "text/plain": [
       "([[1, 2, 3, 4, 5, 6], [7, 100, 9, 10, 11, 12]],\n",
       " [[1, 2, 3, 4, 5, 6], [7, 100, 9, 10, 11, 12]])"
      ]
     },
     "execution_count": 33,
     "metadata": {},
     "output_type": "execute_result"
    }
   ],
   "source": [
    "lst2, lst1"
   ]
  },
  {
   "cell_type": "markdown",
   "id": "ca9f241d",
   "metadata": {},
   "source": [
    "### Deepcopy()"
   ]
  },
  {
   "cell_type": "code",
   "execution_count": 36,
   "id": "1afb593b",
   "metadata": {},
   "outputs": [],
   "source": [
    "import copy\n",
    "lst1 = [1,2,3,4,5,6]\n",
    "lst2 = copy.deepcopy(lst1)"
   ]
  },
  {
   "cell_type": "code",
   "execution_count": 39,
   "id": "0fdfbeb8",
   "metadata": {},
   "outputs": [],
   "source": [
    "lst2[1] = 1000"
   ]
  },
  {
   "cell_type": "code",
   "execution_count": 41,
   "id": "65a5a4ea",
   "metadata": {},
   "outputs": [
    {
     "data": {
      "text/plain": [
       "([1, 2, 3, 4, 5, 6], [1, 1000, 3, 4, 5, 6])"
      ]
     },
     "execution_count": 41,
     "metadata": {},
     "output_type": "execute_result"
    }
   ],
   "source": [
    "lst1, lst2"
   ]
  },
  {
   "cell_type": "code",
   "execution_count": 43,
   "id": "24454140",
   "metadata": {},
   "outputs": [],
   "source": [
    "import copy\n",
    "lst1 = [[1,2,3,4,5,6],[7,8,9,10,11,12]]\n",
    "lst2 = copy.deepcopy(lst1)"
   ]
  },
  {
   "cell_type": "code",
   "execution_count": 45,
   "id": "913e549c",
   "metadata": {},
   "outputs": [],
   "source": [
    "lst2[1][1] = 1000"
   ]
  },
  {
   "cell_type": "code",
   "execution_count": 46,
   "id": "45baedd7",
   "metadata": {},
   "outputs": [
    {
     "data": {
      "text/plain": [
       "([[1, 2, 3, 4, 5, 6], [7, 8, 9, 10, 11, 12]],\n",
       " [[1, 2, 3, 4, 5, 6], [7, 1000, 9, 10, 11, 12]])"
      ]
     },
     "execution_count": 46,
     "metadata": {},
     "output_type": "execute_result"
    }
   ],
   "source": [
    "lst1, lst2"
   ]
  },
  {
   "cell_type": "code",
   "execution_count": null,
   "id": "a2bde673",
   "metadata": {},
   "outputs": [],
   "source": []
  },
  {
   "cell_type": "code",
   "execution_count": null,
   "id": "f3747936",
   "metadata": {},
   "outputs": [],
   "source": []
  }
 ],
 "metadata": {
  "kernelspec": {
   "display_name": "Python 3",
   "language": "python",
   "name": "python3"
  },
  "language_info": {
   "codemirror_mode": {
    "name": "ipython",
    "version": 3
   },
   "file_extension": ".py",
   "mimetype": "text/x-python",
   "name": "python",
   "nbconvert_exporter": "python",
   "pygments_lexer": "ipython3",
   "version": "3.6.5"
  }
 },
 "nbformat": 4,
 "nbformat_minor": 5
}
